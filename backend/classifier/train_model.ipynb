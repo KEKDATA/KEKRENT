{
 "cells": [
  {
   "cell_type": "code",
   "execution_count": 1,
   "metadata": {},
   "outputs": [],
   "source": [
    "import pandas as pd"
   ]
  },
  {
   "cell_type": "code",
   "execution_count": 2,
   "metadata": {},
   "outputs": [],
   "source": [
    "df = pd.read_csv('kekrent_eng.csv', delimiter=';', header=None)"
   ]
  },
  {
   "cell_type": "code",
   "execution_count": 3,
   "metadata": {},
   "outputs": [
    {
     "data": {
      "text/html": [
       "<div>\n",
       "<style scoped>\n",
       "    .dataframe tbody tr th:only-of-type {\n",
       "        vertical-align: middle;\n",
       "    }\n",
       "\n",
       "    .dataframe tbody tr th {\n",
       "        vertical-align: top;\n",
       "    }\n",
       "\n",
       "    .dataframe thead th {\n",
       "        text-align: right;\n",
       "    }\n",
       "</style>\n",
       "<table border=\"1\" class=\"dataframe\">\n",
       "  <thead>\n",
       "    <tr style=\"text-align: right;\">\n",
       "      <th></th>\n",
       "      <th>0</th>\n",
       "      <th>1</th>\n",
       "    </tr>\n",
       "  </thead>\n",
       "  <tbody>\n",
       "    <tr>\n",
       "      <td>0</td>\n",
       "      <td>RENT: 35,000THB/month for 1year contract\\nLOCA...</td>\n",
       "      <td>1</td>\n",
       "    </tr>\n",
       "    <tr>\n",
       "      <td>1</td>\n",
       "      <td>Code: RW97212\\n House For Rent@Rawai\\n Price 2...</td>\n",
       "      <td>1</td>\n",
       "    </tr>\n",
       "    <tr>\n",
       "      <td>2</td>\n",
       "      <td>2 beds 2 baths \\n4 parking car\\nGarden but no ...</td>\n",
       "      <td>1</td>\n",
       "    </tr>\n",
       "    <tr>\n",
       "      <td>3</td>\n",
       "      <td>35,000THB/month \\nThis is in with Modern Tropi...</td>\n",
       "      <td>1</td>\n",
       "    </tr>\n",
       "    <tr>\n",
       "      <td>4</td>\n",
       "      <td>RENT: 35,000THB/month for 1year contract\\nLOCA...</td>\n",
       "      <td>1</td>\n",
       "    </tr>\n",
       "    <tr>\n",
       "      <td>...</td>\n",
       "      <td>...</td>\n",
       "      <td>...</td>\n",
       "    </tr>\n",
       "    <tr>\n",
       "      <td>309</td>\n",
       "      <td>Yamaha X Max 2018\\nRent/\\nCovid Price Offer fo...</td>\n",
       "      <td>0</td>\n",
       "    </tr>\n",
       "    <tr>\n",
       "      <td>310</td>\n",
       "      <td>\\n FOR SALE POOL VILLA 3 BEDROOMS SUITES  \\n 1...</td>\n",
       "      <td>0</td>\n",
       "    </tr>\n",
       "    <tr>\n",
       "      <td>311</td>\n",
       "      <td>The view condominium , nice decoration unit av...</td>\n",
       "      <td>1</td>\n",
       "    </tr>\n",
       "    <tr>\n",
       "      <td>312</td>\n",
       "      <td>Happy Days With Airry Car For Rent \\n We bring...</td>\n",
       "      <td>0</td>\n",
       "    </tr>\n",
       "    <tr>\n",
       "      <td>313</td>\n",
       "      <td>NG-Rw0009 \\nSingle storey house, Rawai availab...</td>\n",
       "      <td>1</td>\n",
       "    </tr>\n",
       "  </tbody>\n",
       "</table>\n",
       "<p>314 rows × 2 columns</p>\n",
       "</div>"
      ],
      "text/plain": [
       "                                                     0  1\n",
       "0    RENT: 35,000THB/month for 1year contract\\nLOCA...  1\n",
       "1    Code: RW97212\\n House For Rent@Rawai\\n Price 2...  1\n",
       "2    2 beds 2 baths \\n4 parking car\\nGarden but no ...  1\n",
       "3    35,000THB/month \\nThis is in with Modern Tropi...  1\n",
       "4    RENT: 35,000THB/month for 1year contract\\nLOCA...  1\n",
       "..                                                 ... ..\n",
       "309  Yamaha X Max 2018\\nRent/\\nCovid Price Offer fo...  0\n",
       "310  \\n FOR SALE POOL VILLA 3 BEDROOMS SUITES  \\n 1...  0\n",
       "311  The view condominium , nice decoration unit av...  1\n",
       "312  Happy Days With Airry Car For Rent \\n We bring...  0\n",
       "313  NG-Rw0009 \\nSingle storey house, Rawai availab...  1\n",
       "\n",
       "[314 rows x 2 columns]"
      ]
     },
     "execution_count": 3,
     "metadata": {},
     "output_type": "execute_result"
    }
   ],
   "source": [
    "df"
   ]
  },
  {
   "cell_type": "code",
   "execution_count": 4,
   "metadata": {},
   "outputs": [
    {
     "data": {
      "text/plain": [
       "'RENT: 35,000THB/month for 1year contract\\nLOCATION: CHERNGTALAY\\n3 bedrooms Pool Villa near Blue Tree Waterpark with private pool\\nClose to Laguna, Bangtao And not far from Layan\\nFor Long Term Rental.\\nLINE ID: kibkwanpat\\nWHATSAPP: +66952977709'"
      ]
     },
     "execution_count": 4,
     "metadata": {},
     "output_type": "execute_result"
    }
   ],
   "source": [
    "df.loc[0][0]"
   ]
  },
  {
   "cell_type": "code",
   "execution_count": 5,
   "metadata": {},
   "outputs": [],
   "source": [
    "df.rename(columns={0: 'text', 1: 'label'}, inplace=True)"
   ]
  },
  {
   "cell_type": "code",
   "execution_count": 6,
   "metadata": {},
   "outputs": [],
   "source": [
    "import seaborn as sns"
   ]
  },
  {
   "cell_type": "code",
   "execution_count": 7,
   "metadata": {},
   "outputs": [
    {
     "data": {
      "text/plain": [
       "<matplotlib.axes._subplots.AxesSubplot at 0x7f8fcb497c18>"
      ]
     },
     "execution_count": 7,
     "metadata": {},
     "output_type": "execute_result"
    },
    {
     "data": {
      "image/png": "[encoded data removed]",
      "text/plain": [
       "<Figure size 432x288 with 1 Axes>"
      ]
     },
     "metadata": {
      "needs_background": "light"
     },
     "output_type": "display_data"
    }
   ],
   "source": [
    "sns.barplot(y=df['label'].value_counts().values, x=df['label'].value_counts().index)"
   ]
  },
  {
   "cell_type": "markdown",
   "metadata": {},
   "source": [
    "# preprocessing"
   ]
  },
  {
   "cell_type": "code",
   "execution_count": 8,
   "metadata": {},
   "outputs": [
    {
     "name": "stdout",
     "output_type": "stream",
     "text": [
      "['rent', '35', '000thb', 'month', 'for', '1year', 'contract']\n",
      "['location', 'cherngtalay']\n",
      "['3', 'bedrooms', 'pool', 'villa', 'near', 'blue', 'tree', 'waterpark', 'with', 'private', 'pool']\n",
      "['close', 'to', 'laguna', 'bangtao', 'and', 'not', 'far', 'from', 'layan']\n",
      "['for', 'long', 'term', 'rental']\n",
      "['line', 'id', 'kibkwanpat']\n",
      "['whatsapp', '66952977709']\n"
     ]
    }
   ],
   "source": [
    "import re\n",
    "\n",
    "tokenize = re.compile(r'[\\w\\d]+')\n",
    "\n",
    "for line in df.loc[0][0].split('\\n'):\n",
    "    print(tokenize.findall(line.lower()))"
   ]
  },
  {
   "cell_type": "code",
   "execution_count": 9,
   "metadata": {},
   "outputs": [],
   "source": [
    "def get_tokens(text):\n",
    "    lines = []\n",
    "    for line in text.split('\\n'):\n",
    "        lines += tokenize.findall(line.lower())\n",
    "        \n",
    "    return lines"
   ]
  },
  {
   "cell_type": "code",
   "execution_count": 10,
   "metadata": {},
   "outputs": [],
   "source": [
    "df['tokens'] = df['text'].apply(get_tokens)"
   ]
  },
  {
   "cell_type": "code",
   "execution_count": 11,
   "metadata": {},
   "outputs": [
    {
     "data": {
      "text/html": [
       "<div>\n",
       "<style scoped>\n",
       "    .dataframe tbody tr th:only-of-type {\n",
       "        vertical-align: middle;\n",
       "    }\n",
       "\n",
       "    .dataframe tbody tr th {\n",
       "        vertical-align: top;\n",
       "    }\n",
       "\n",
       "    .dataframe thead th {\n",
       "        text-align: right;\n",
       "    }\n",
       "</style>\n",
       "<table border=\"1\" class=\"dataframe\">\n",
       "  <thead>\n",
       "    <tr style=\"text-align: right;\">\n",
       "      <th></th>\n",
       "      <th>text</th>\n",
       "      <th>label</th>\n",
       "      <th>tokens</th>\n",
       "    </tr>\n",
       "  </thead>\n",
       "  <tbody>\n",
       "    <tr>\n",
       "      <td>0</td>\n",
       "      <td>RENT: 35,000THB/month for 1year contract\\nLOCA...</td>\n",
       "      <td>1</td>\n",
       "      <td>[rent, 35, 000thb, month, for, 1year, contract...</td>\n",
       "    </tr>\n",
       "    <tr>\n",
       "      <td>1</td>\n",
       "      <td>Code: RW97212\\n House For Rent@Rawai\\n Price 2...</td>\n",
       "      <td>1</td>\n",
       "      <td>[code, rw97212, house, for, rent, rawai, price...</td>\n",
       "    </tr>\n",
       "    <tr>\n",
       "      <td>2</td>\n",
       "      <td>2 beds 2 baths \\n4 parking car\\nGarden but no ...</td>\n",
       "      <td>1</td>\n",
       "      <td>[2, beds, 2, baths, 4, parking, car, garden, b...</td>\n",
       "    </tr>\n",
       "    <tr>\n",
       "      <td>3</td>\n",
       "      <td>35,000THB/month \\nThis is in with Modern Tropi...</td>\n",
       "      <td>1</td>\n",
       "      <td>[35, 000thb, month, this, is, in, with, modern...</td>\n",
       "    </tr>\n",
       "    <tr>\n",
       "      <td>4</td>\n",
       "      <td>RENT: 35,000THB/month for 1year contract\\nLOCA...</td>\n",
       "      <td>1</td>\n",
       "      <td>[rent, 35, 000thb, month, for, 1year, contract...</td>\n",
       "    </tr>\n",
       "    <tr>\n",
       "      <td>...</td>\n",
       "      <td>...</td>\n",
       "      <td>...</td>\n",
       "      <td>...</td>\n",
       "    </tr>\n",
       "    <tr>\n",
       "      <td>309</td>\n",
       "      <td>Yamaha X Max 2018\\nRent/\\nCovid Price Offer fo...</td>\n",
       "      <td>0</td>\n",
       "      <td>[yamaha, x, max, 2018, rent, covid, price, off...</td>\n",
       "    </tr>\n",
       "    <tr>\n",
       "      <td>310</td>\n",
       "      <td>\\n FOR SALE POOL VILLA 3 BEDROOMS SUITES  \\n 1...</td>\n",
       "      <td>0</td>\n",
       "      <td>[for, sale, pool, villa, 3, bedrooms, suites, ...</td>\n",
       "    </tr>\n",
       "    <tr>\n",
       "      <td>311</td>\n",
       "      <td>The view condominium , nice decoration unit av...</td>\n",
       "      <td>1</td>\n",
       "      <td>[the, view, condominium, nice, decoration, uni...</td>\n",
       "    </tr>\n",
       "    <tr>\n",
       "      <td>312</td>\n",
       "      <td>Happy Days With Airry Car For Rent \\n We bring...</td>\n",
       "      <td>0</td>\n",
       "      <td>[happy, days, with, airry, car, for, rent, we,...</td>\n",
       "    </tr>\n",
       "    <tr>\n",
       "      <td>313</td>\n",
       "      <td>NG-Rw0009 \\nSingle storey house, Rawai availab...</td>\n",
       "      <td>1</td>\n",
       "      <td>[ng, rw0009, single, storey, house, rawai, ava...</td>\n",
       "    </tr>\n",
       "  </tbody>\n",
       "</table>\n",
       "<p>314 rows × 3 columns</p>\n",
       "</div>"
      ],
      "text/plain": [
       "                                                  text  label  \\\n",
       "0    RENT: 35,000THB/month for 1year contract\\nLOCA...      1   \n",
       "1    Code: RW97212\\n House For Rent@Rawai\\n Price 2...      1   \n",
       "2    2 beds 2 baths \\n4 parking car\\nGarden but no ...      1   \n",
       "3    35,000THB/month \\nThis is in with Modern Tropi...      1   \n",
       "4    RENT: 35,000THB/month for 1year contract\\nLOCA...      1   \n",
       "..                                                 ...    ...   \n",
       "309  Yamaha X Max 2018\\nRent/\\nCovid Price Offer fo...      0   \n",
       "310  \\n FOR SALE POOL VILLA 3 BEDROOMS SUITES  \\n 1...      0   \n",
       "311  The view condominium , nice decoration unit av...      1   \n",
       "312  Happy Days With Airry Car For Rent \\n We bring...      0   \n",
       "313  NG-Rw0009 \\nSingle storey house, Rawai availab...      1   \n",
       "\n",
       "                                                tokens  \n",
       "0    [rent, 35, 000thb, month, for, 1year, contract...  \n",
       "1    [code, rw97212, house, for, rent, rawai, price...  \n",
       "2    [2, beds, 2, baths, 4, parking, car, garden, b...  \n",
       "3    [35, 000thb, month, this, is, in, with, modern...  \n",
       "4    [rent, 35, 000thb, month, for, 1year, contract...  \n",
       "..                                                 ...  \n",
       "309  [yamaha, x, max, 2018, rent, covid, price, off...  \n",
       "310  [for, sale, pool, villa, 3, bedrooms, suites, ...  \n",
       "311  [the, view, condominium, nice, decoration, uni...  \n",
       "312  [happy, days, with, airry, car, for, rent, we,...  \n",
       "313  [ng, rw0009, single, storey, house, rawai, ava...  \n",
       "\n",
       "[314 rows x 3 columns]"
      ]
     },
     "execution_count": 11,
     "metadata": {},
     "output_type": "execute_result"
    }
   ],
   "source": [
    "df"
   ]
  },
  {
   "cell_type": "markdown",
   "metadata": {},
   "source": [
    "# folds"
   ]
  },
  {
   "cell_type": "code",
   "execution_count": 12,
   "metadata": {},
   "outputs": [
    {
     "data": {
      "text/plain": [
       "1    184\n",
       "0    130\n",
       "Name: label, dtype: int64"
      ]
     },
     "execution_count": 12,
     "metadata": {},
     "output_type": "execute_result"
    }
   ],
   "source": [
    "df['label'].value_counts()"
   ]
  },
  {
   "cell_type": "code",
   "execution_count": 13,
   "metadata": {},
   "outputs": [
    {
     "data": {
      "text/plain": [
       "'0.24.2'"
      ]
     },
     "execution_count": 13,
     "metadata": {},
     "output_type": "execute_result"
    }
   ],
   "source": [
    "import sklearn\n",
    "\n",
    "sklearn.__version__"
   ]
  },
  {
   "cell_type": "code",
   "execution_count": 14,
   "metadata": {},
   "outputs": [],
   "source": [
    "from sklearn.model_selection import StratifiedKFold"
   ]
  },
  {
   "cell_type": "code",
   "execution_count": 15,
   "metadata": {},
   "outputs": [],
   "source": [
    "kfold = StratifiedKFold(n_splits=5, shuffle=True, random_state=25)"
   ]
  },
  {
   "cell_type": "code",
   "execution_count": 16,
   "metadata": {},
   "outputs": [],
   "source": [
    "for i, (train, valid) in enumerate(kfold.split(X=df.index, y=df['label'])):\n",
    "    df.loc[valid, 'fold'] = i"
   ]
  },
  {
   "cell_type": "code",
   "execution_count": 17,
   "metadata": {},
   "outputs": [],
   "source": [
    "import seaborn as sns\n",
    "import matplotlib.pyplot as plt"
   ]
  },
  {
   "cell_type": "code",
   "execution_count": 18,
   "metadata": {},
   "outputs": [
    {
     "data": {
      "image/png": "[encoded data removed]",
      "text/plain": [
       "<Figure size 432x288 with 1 Axes>"
      ]
     },
     "metadata": {
      "needs_background": "light"
     },
     "output_type": "display_data"
    },
    {
     "data": {
      "image/png": "[encoded data removed]",
      "text/plain": [
       "<Figure size 432x288 with 1 Axes>"
      ]
     },
     "metadata": {
      "needs_background": "light"
     },
     "output_type": "display_data"
    },
    {
     "data": {
      "image/png": "[encoded data removed]",
      "text/plain": [
       "<Figure size 432x288 with 1 Axes>"
      ]
     },
     "metadata": {
      "needs_background": "light"
     },
     "output_type": "display_data"
    },
    {
     "data": {
      "image/png": "[encoded data removed]",
      "text/plain": [
       "<Figure size 432x288 with 1 Axes>"
      ]
     },
     "metadata": {
      "needs_background": "light"
     },
     "output_type": "display_data"
    },
    {
     "data": {
      "image/png": "[encoded data removed]",
      "text/plain": [
       "<Figure size 432x288 with 1 Axes>"
      ]
     },
     "metadata": {
      "needs_background": "light"
     },
     "output_type": "display_data"
    }
   ],
   "source": [
    "for i in range(5):\n",
    "    dataset = df[df['fold'] == i]\n",
    "    sns.barplot(y=dataset['label'].value_counts().values, x=dataset['label'].value_counts().index)\n",
    "    plt.show()"
   ]
  },
  {
   "cell_type": "markdown",
   "metadata": {},
   "source": [
    "# model"
   ]
  },
  {
   "cell_type": "code",
   "execution_count": 19,
   "metadata": {},
   "outputs": [],
   "source": [
    "from sklearn.feature_extraction.text import TfidfVectorizer\n",
    "from sklearn.pipeline import Pipeline\n",
    "from sklearn.linear_model import LogisticRegression"
   ]
  },
  {
   "cell_type": "code",
   "execution_count": 20,
   "metadata": {},
   "outputs": [],
   "source": [
    "from sklearn.metrics import roc_curve, auc"
   ]
  },
  {
   "cell_type": "code",
   "execution_count": 21,
   "metadata": {},
   "outputs": [
    {
     "data": {
      "text/html": [
       "<div>\n",
       "<style scoped>\n",
       "    .dataframe tbody tr th:only-of-type {\n",
       "        vertical-align: middle;\n",
       "    }\n",
       "\n",
       "    .dataframe tbody tr th {\n",
       "        vertical-align: top;\n",
       "    }\n",
       "\n",
       "    .dataframe thead th {\n",
       "        text-align: right;\n",
       "    }\n",
       "</style>\n",
       "<table border=\"1\" class=\"dataframe\">\n",
       "  <thead>\n",
       "    <tr style=\"text-align: right;\">\n",
       "      <th></th>\n",
       "      <th>text</th>\n",
       "      <th>label</th>\n",
       "      <th>tokens</th>\n",
       "      <th>fold</th>\n",
       "    </tr>\n",
       "  </thead>\n",
       "  <tbody>\n",
       "    <tr>\n",
       "      <td>0</td>\n",
       "      <td>RENT: 35,000THB/month for 1year contract\\nLOCA...</td>\n",
       "      <td>1</td>\n",
       "      <td>[rent, 35, 000thb, month, for, 1year, contract...</td>\n",
       "      <td>1.0</td>\n",
       "    </tr>\n",
       "    <tr>\n",
       "      <td>1</td>\n",
       "      <td>Code: RW97212\\n House For Rent@Rawai\\n Price 2...</td>\n",
       "      <td>1</td>\n",
       "      <td>[code, rw97212, house, for, rent, rawai, price...</td>\n",
       "      <td>0.0</td>\n",
       "    </tr>\n",
       "    <tr>\n",
       "      <td>2</td>\n",
       "      <td>2 beds 2 baths \\n4 parking car\\nGarden but no ...</td>\n",
       "      <td>1</td>\n",
       "      <td>[2, beds, 2, baths, 4, parking, car, garden, b...</td>\n",
       "      <td>2.0</td>\n",
       "    </tr>\n",
       "    <tr>\n",
       "      <td>3</td>\n",
       "      <td>35,000THB/month \\nThis is in with Modern Tropi...</td>\n",
       "      <td>1</td>\n",
       "      <td>[35, 000thb, month, this, is, in, with, modern...</td>\n",
       "      <td>2.0</td>\n",
       "    </tr>\n",
       "    <tr>\n",
       "      <td>4</td>\n",
       "      <td>RENT: 35,000THB/month for 1year contract\\nLOCA...</td>\n",
       "      <td>1</td>\n",
       "      <td>[rent, 35, 000thb, month, for, 1year, contract...</td>\n",
       "      <td>2.0</td>\n",
       "    </tr>\n",
       "    <tr>\n",
       "      <td>...</td>\n",
       "      <td>...</td>\n",
       "      <td>...</td>\n",
       "      <td>...</td>\n",
       "      <td>...</td>\n",
       "    </tr>\n",
       "    <tr>\n",
       "      <td>309</td>\n",
       "      <td>Yamaha X Max 2018\\nRent/\\nCovid Price Offer fo...</td>\n",
       "      <td>0</td>\n",
       "      <td>[yamaha, x, max, 2018, rent, covid, price, off...</td>\n",
       "      <td>3.0</td>\n",
       "    </tr>\n",
       "    <tr>\n",
       "      <td>310</td>\n",
       "      <td>\\n FOR SALE POOL VILLA 3 BEDROOMS SUITES  \\n 1...</td>\n",
       "      <td>0</td>\n",
       "      <td>[for, sale, pool, villa, 3, bedrooms, suites, ...</td>\n",
       "      <td>4.0</td>\n",
       "    </tr>\n",
       "    <tr>\n",
       "      <td>311</td>\n",
       "      <td>The view condominium , nice decoration unit av...</td>\n",
       "      <td>1</td>\n",
       "      <td>[the, view, condominium, nice, decoration, uni...</td>\n",
       "      <td>1.0</td>\n",
       "    </tr>\n",
       "    <tr>\n",
       "      <td>312</td>\n",
       "      <td>Happy Days With Airry Car For Rent \\n We bring...</td>\n",
       "      <td>0</td>\n",
       "      <td>[happy, days, with, airry, car, for, rent, we,...</td>\n",
       "      <td>2.0</td>\n",
       "    </tr>\n",
       "    <tr>\n",
       "      <td>313</td>\n",
       "      <td>NG-Rw0009 \\nSingle storey house, Rawai availab...</td>\n",
       "      <td>1</td>\n",
       "      <td>[ng, rw0009, single, storey, house, rawai, ava...</td>\n",
       "      <td>3.0</td>\n",
       "    </tr>\n",
       "  </tbody>\n",
       "</table>\n",
       "<p>314 rows × 4 columns</p>\n",
       "</div>"
      ],
      "text/plain": [
       "                                                  text  label  \\\n",
       "0    RENT: 35,000THB/month for 1year contract\\nLOCA...      1   \n",
       "1    Code: RW97212\\n House For Rent@Rawai\\n Price 2...      1   \n",
       "2    2 beds 2 baths \\n4 parking car\\nGarden but no ...      1   \n",
       "3    35,000THB/month \\nThis is in with Modern Tropi...      1   \n",
       "4    RENT: 35,000THB/month for 1year contract\\nLOCA...      1   \n",
       "..                                                 ...    ...   \n",
       "309  Yamaha X Max 2018\\nRent/\\nCovid Price Offer fo...      0   \n",
       "310  \\n FOR SALE POOL VILLA 3 BEDROOMS SUITES  \\n 1...      0   \n",
       "311  The view condominium , nice decoration unit av...      1   \n",
       "312  Happy Days With Airry Car For Rent \\n We bring...      0   \n",
       "313  NG-Rw0009 \\nSingle storey house, Rawai availab...      1   \n",
       "\n",
       "                                                tokens  fold  \n",
       "0    [rent, 35, 000thb, month, for, 1year, contract...   1.0  \n",
       "1    [code, rw97212, house, for, rent, rawai, price...   0.0  \n",
       "2    [2, beds, 2, baths, 4, parking, car, garden, b...   2.0  \n",
       "3    [35, 000thb, month, this, is, in, with, modern...   2.0  \n",
       "4    [rent, 35, 000thb, month, for, 1year, contract...   2.0  \n",
       "..                                                 ...   ...  \n",
       "309  [yamaha, x, max, 2018, rent, covid, price, off...   3.0  \n",
       "310  [for, sale, pool, villa, 3, bedrooms, suites, ...   4.0  \n",
       "311  [the, view, condominium, nice, decoration, uni...   1.0  \n",
       "312  [happy, days, with, airry, car, for, rent, we,...   2.0  \n",
       "313  [ng, rw0009, single, storey, house, rawai, ava...   3.0  \n",
       "\n",
       "[314 rows x 4 columns]"
      ]
     },
     "execution_count": 21,
     "metadata": {},
     "output_type": "execute_result"
    }
   ],
   "source": [
    "df"
   ]
  },
  {
   "cell_type": "code",
   "execution_count": 26,
   "metadata": {},
   "outputs": [
    {
     "name": "stdout",
     "output_type": "stream",
     "text": [
      "1      Code: RW97212\\n House For Rent@Rawai\\n Price 2...\n",
      "9      YANUI BEACH PHUKET\\nExcellent house Pool Villa...\n",
      "10     YANUI BEACH PHUKET\\nExcellent house Pool Villa...\n",
      "12     Zcape3 condominium for rent \\nStudio 28 sqm. \\...\n",
      "18     Line ID: teddyvicky\\nWhatsApp: (+ 66) 64591546...\n",
      "                             ...                        \n",
      "275    Condo for rent Dlux condominium \\nDlux condomi...\n",
      "278     POOL VILLA 3 BEDROOMS SUITES \\nHOUSE :\\n Bedr...\n",
      "286    Modern 3Bedrooms pool Villa Rawai\\nSale 9,600,...\n",
      "288    (K15) New pool villa for rent\\nLOCATION ; #CHA...\n",
      "300    Happy Days With Airry Car For Rent \\n We bring...\n",
      "Name: text, Length: 63, dtype: object\n"
     ]
    }
   ],
   "source": [
    "oof_labels = []\n",
    "oof_preds = []\n",
    "\n",
    "for i in range(5):\n",
    "    train = df[df['fold'] != i]\n",
    "    valid = df[df['fold'] == i]\n",
    "    \n",
    "    pipeline = Pipeline((('vect', TfidfVectorizer(tokenizer=get_tokens)), \n",
    "                         ('cls', LogisticRegression(random_state=25))))\n",
    "    pipeline.fit(train['text'], train['label'])\n",
    "    print(valid['text'])\n",
    "    break\n",
    "    preds = pipeline.predict_proba(valid['text'])[:, 1]\n",
    "    \n",
    "    fpr, tpr, threshes = roc_curve(train['label'], pipeline.predict_proba(train['text'])[:, 1])\n",
    "    train_auc = auc(fpr, tpr)\n",
    "    fpr, tpr, threshes = roc_curve(valid['label'], pipeline.predict_proba(valid['text'])[:, 1])\n",
    "    valid_auc = auc(fpr, tpr)\n",
    "    print(train_auc, valid_auc)\n",
    "    \n",
    "    oof_preds.extend(preds.tolist())\n",
    "    oof_labels.extend(valid['label'].tolist())"
   ]
  },
  {
   "cell_type": "code",
   "execution_count": 23,
   "metadata": {},
   "outputs": [],
   "source": [
    "import joblib\n",
    "import pickle"
   ]
  },
  {
   "cell_type": "code",
   "execution_count": 24,
   "metadata": {},
   "outputs": [],
   "source": [
    "byte = pickle.dumps(pipeline)\n",
    "with open('model.pickle', 'wb') as bm:\n",
    "    bm.write(byte)"
   ]
  },
  {
   "cell_type": "code",
   "execution_count": 24,
   "metadata": {},
   "outputs": [
    {
     "data": {
      "text/plain": [
       "(314, 314)"
      ]
     },
     "execution_count": 24,
     "metadata": {},
     "output_type": "execute_result"
    }
   ],
   "source": [
    "len(oof_preds), len(oof_labels)"
   ]
  },
  {
   "cell_type": "code",
   "execution_count": 25,
   "metadata": {},
   "outputs": [],
   "source": [
    "fpr, tpr, threshes = roc_curve(oof_labels, oof_preds)"
   ]
  },
  {
   "cell_type": "code",
   "execution_count": 26,
   "metadata": {},
   "outputs": [
    {
     "data": {
      "text/plain": [
       "0.9651337792642141"
      ]
     },
     "execution_count": 26,
     "metadata": {},
     "output_type": "execute_result"
    }
   ],
   "source": [
    "auc(fpr, tpr)"
   ]
  },
  {
   "cell_type": "code",
   "execution_count": 27,
   "metadata": {},
   "outputs": [
    {
     "data": {
      "image/png": "[encoded data removed]",
      "text/plain": [
       "<Figure size 432x288 with 1 Axes>"
      ]
     },
     "metadata": {
      "needs_background": "light"
     },
     "output_type": "display_data"
    }
   ],
   "source": [
    "plt.figure()\n",
    "lw = 2\n",
    "plt.plot(fpr, tpr, color='darkorange',\n",
    "         lw=lw, label='ROC curve (area = %0.2f)' % auc(fpr, tpr))\n",
    "plt.plot([0, 1], [0, 1], color='navy', lw=lw, linestyle='--')\n",
    "plt.xlim([0.0, 1.0])\n",
    "plt.ylim([0.0, 1.05])\n",
    "plt.xlabel('False Positive Rate')\n",
    "plt.ylabel('True Positive Rate')\n",
    "plt.title('Receiver operating characteristic example')\n",
    "plt.legend(loc=\"lower right\")\n",
    "plt.show()"
   ]
  },
  {
   "cell_type": "code",
   "execution_count": null,
   "metadata": {},
   "outputs": [],
   "source": []
  }
 ],
 "metadata": {
  "kernelspec": {
   "display_name": "Python 3",
   "language": "python",
   "name": "python3"
  },
  "language_info": {
   "codemirror_mode": {
    "name": "ipython",
    "version": 3
   },
   "file_extension": ".py",
   "mimetype": "text/x-python",
   "name": "python",
   "nbconvert_exporter": "python",
   "pygments_lexer": "ipython3",
   "version": "3.6.9"
  }
 },
 "nbformat": 4,
 "nbformat_minor": 5
}
